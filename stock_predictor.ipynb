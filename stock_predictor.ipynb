{
 "cells": [
  {
   "cell_type": "markdown",
   "metadata": {},
   "source": [
    "# Instructions for Dad:Go to Top Menu and Click 'Kernel', go down the list to option 4: \"Restart & Run All\". Then scroll down to the \"Inference\" section to see results within a few seconds."
   ]
  },
  {
   "cell_type": "code",
   "execution_count": 1,
   "metadata": {},
   "outputs": [],
   "source": [
    "import torch\n",
    "from torch import nn\n",
    "from torch.autograd import Variable\n",
    "from torch import optim\n",
    "import torch.nn.functional as F\n",
    "import pandas as pd\n",
    "import numpy as np\n",
    "import matplotlib.pyplot as plt\n",
    "\n"
   ]
  },
  {
   "cell_type": "markdown",
   "metadata": {},
   "source": [
    "\n"
   ]
  },
  {
   "cell_type": "markdown",
   "metadata": {
    "collapsed": true
   },
   "source": []
  },
  {
   "cell_type": "markdown",
   "metadata": {},
   "source": []
  },
  {
   "cell_type": "code",
   "execution_count": 3,
   "metadata": {},
   "outputs": [],
   "source": [
    "import ssl\n",
    "import pandas as pd\n",
    "ssl._create_default_https_context = ssl._create_unverified_context\n"
   ]
  },
  {
   "cell_type": "markdown",
   "metadata": {},
   "source": [
    "\n"
   ]
  },
  {
   "cell_type": "markdown",
   "metadata": {},
   "source": [
    "# ONLINE SGD prediction"
   ]
  },
  {
   "cell_type": "markdown",
   "metadata": {},
   "source": [
    "# multistock buying"
   ]
  },
  {
   "cell_type": "markdown",
   "metadata": {},
   "source": [
    "define functions\n"
   ]
  },
  {
   "cell_type": "code",
   "execution_count": 5,
   "metadata": {},
   "outputs": [],
   "source": [
    "# import random\n",
    "\n",
    "def linearloss(purchases,deltas):\n",
    "    loss=0\n",
    "    \n",
    "    #print(deltas)\n",
    "    for i,z in enumerate(deltas):\n",
    "        loss+=-z*purchases[i]\n",
    "    return loss\n",
    "def delta_seq(prices):\n",
    "    prices=np.array(prices)\n",
    "    deltas=[]\n",
    "    last_price=prices[0]\n",
    "    for i, price in enumerate(prices[1:]):\n",
    "        deltas.append(list(price-last_price))\n",
    "        last_price=price\n",
    "    return deltas\n",
    "\n",
    "def manage_bank_account(purchases,prices):\n",
    "    purchases=np.array(purchases)\n",
    "    how_many_shares_i_own=purchases[0]\n",
    "    profit_tracker=[]\n",
    "    gain_tracker=[]\n",
    "    bank_account= -sum(prices[0])\n",
    "    stock_account=how_many_shares_i_own*prices[1]\n",
    "    \n",
    "    \n",
    "    for i in range(1,len(purchases)-1):\n",
    "        \n",
    "        how_many_shares_i_own+=purchases[i]\n",
    "        \n",
    "        bank_account-=sum(purchases[i]*prices[i])\n",
    "        stock_account=how_many_shares_i_own*prices[i+1]\n",
    "        gain_tracker.append(sum(how_many_shares_i_own*((np.array(prices[i])-np.array(prices[i-1])))))\n",
    "        profit_tracker.append(sum(stock_account)/-bank_account)\n",
    "        if i==len(purchases)-3:\n",
    "            last_bank=bank_account\n",
    "    last_gain=how_many_shares_i_own*((np.array(prices[-1])-np.array(prices[-2])))\n",
    "            \n",
    "    \n",
    "    return bank_account,stock_account,last_gain,profit_tracker,gain_tracker\n",
    "        \n",
    "        \n",
    "\n"
   ]
  },
  {
   "cell_type": "code",
   "execution_count": 6,
   "metadata": {
    "scrolled": false
   },
   "outputs": [],
   "source": [
    "import numpy as np\n"
   ]
  },
  {
   "cell_type": "markdown",
   "metadata": {},
   "source": [
    "# LOAD DATA(start_date = '2017-9-24',end_date = 'TODAY')\n"
   ]
  },
  {
   "cell_type": "code",
   "execution_count": 17,
   "metadata": {},
   "outputs": [],
   "source": [
    "from pandas_datareader import data\n",
    "tickers = ['AAPL','AMZN','COST','FB','GOOGL','INTC','MSFT','NFLX','XLNX']\n",
    "#tickers = ['AMZN','COST','MSFT','NFLX','NVDA','XLNX']\n",
    "\n",
    "# We would like all available data from 01/01/2000 until 12/31/2016.\n",
    "start_date = '2017-9-24'\n",
    "end_date = '2020-12-30'\n",
    "\n",
    "# User pandas_reader.data.DataReader to load the desired data. As simple as that.\n",
    "panel_data = data.DataReader(tickers, 'yahoo', start_date, end_date)\n",
    "prices=panel_data['Close'].values"
   ]
  },
  {
   "cell_type": "code",
   "execution_count": 18,
   "metadata": {
    "scrolled": true
   },
   "outputs": [
    {
     "name": "stdout",
     "output_type": "stream",
     "text": [
      "Symbols           AAPL         AMZN        COST          FB        GOOGL  \\\n",
      "Date                                                                       \n",
      "2017-09-25  150.550003   939.789978  162.330002  162.869995   934.280029   \n",
      "2017-09-26  153.139999   938.599976  164.070007  164.210007   937.429993   \n",
      "2017-09-27  154.229996   950.869995  164.419998  167.679993   959.900024   \n",
      "2017-09-28  153.279999   956.400024  163.899994  168.729996   964.809998   \n",
      "2017-09-29  154.119995   961.349976  164.289993  170.869995   973.719971   \n",
      "2017-10-02  153.809998   959.190002  165.889999  169.470001   967.469971   \n",
      "2017-10-03  154.479996   957.099976  165.080002  169.960007   972.080017   \n",
      "2017-10-04  153.479996   965.450012  165.210007  168.419998   966.780029   \n",
      "2017-10-05  155.389999   980.849976  167.070007  171.240005   985.190002   \n",
      "2017-10-06  155.300003   989.580017  157.089996  172.229996   993.640015   \n",
      "2017-10-09  155.839996   990.989990  154.610001  172.500000   992.309998   \n",
      "2017-10-10  155.899994   987.200012  156.869995  171.589996   987.799988   \n",
      "2017-10-11  156.550003   995.000000  157.869995  172.740005  1005.650024   \n",
      "2017-10-12  156.000000  1000.929993  157.220001  172.550003  1005.650024   \n",
      "2017-10-13  156.990005  1002.940002  159.850006  173.740005  1007.869995   \n",
      "2017-10-16  159.880005  1006.340027  158.809998  174.520004  1009.349976   \n",
      "2017-10-17  160.470001  1009.130005  158.380005  176.110001  1011.000000   \n",
      "2017-10-18  159.759995   997.000000  157.550003  176.029999  1012.739990   \n",
      "2017-10-19  155.979996   986.609985  158.460007  174.559998  1001.840027   \n",
      "2017-10-20  156.250000   982.909973  160.770004  174.979996  1005.070007   \n",
      "2017-10-23  156.169998   966.299988  162.039993  171.270004   985.539978   \n",
      "2017-10-24  157.100006   975.900024  162.289993  171.800003   988.489990   \n",
      "2017-10-25  156.410004   972.909973  162.179993  170.600006   991.460022   \n",
      "2017-10-26  157.410004   972.429993  162.460007  170.630005   991.419983   \n",
      "2017-10-27  163.050003  1100.949951  162.380005  177.880005  1033.670044   \n",
      "2017-10-30  166.720001  1110.849976  160.229996  179.869995  1033.130005   \n",
      "2017-10-31  169.039993  1105.280029  161.080002  180.059998  1033.040039   \n",
      "2017-11-01  166.889999  1103.680054  162.690002  182.660004  1042.599976   \n",
      "2017-11-02  168.110001  1094.219971  164.949997  178.919998  1042.969971   \n",
      "2017-11-03  172.500000  1111.599976  166.440002  178.919998  1049.989990   \n",
      "...                ...          ...         ...         ...          ...   \n",
      "2020-01-16  315.239990  1877.939941  303.029999  221.770004  1450.160034   \n",
      "2020-01-17  318.730011  1864.719971  304.679993  222.139999  1479.520020   \n",
      "2020-01-21  316.570007  1892.000000  313.260010  221.440002  1482.250000   \n",
      "2020-01-22  317.700012  1887.459961  311.890015  221.320007  1483.869995   \n",
      "2020-01-23  319.230011  1884.579956  312.880005  219.759995  1484.689941   \n",
      "2020-01-24  318.309998  1861.640015  310.510010  217.940002  1466.170044   \n",
      "2020-01-27  308.950012  1828.339966  309.450012  214.869995  1431.729980   \n",
      "2020-01-28  317.690002  1853.250000  310.850006  217.789993  1450.500000   \n",
      "2020-01-29  324.339996  1858.000000  309.579987  223.229996  1456.699951   \n",
      "2020-01-30  323.869995  1870.680054  309.470001  209.529999  1454.250000   \n",
      "2020-01-31  309.510010  2008.719971  305.519989  201.910004  1432.780029   \n",
      "2020-02-03  308.660004  2004.199951  302.000000  204.190002  1482.599976   \n",
      "2020-02-04  318.850006  2049.669922  304.899994  209.830002  1445.410034   \n",
      "2020-02-05  321.450012  2039.869995  308.950012  210.110001  1446.050049   \n",
      "2020-02-06  325.209991  2050.229980  310.609985  210.850006  1475.969971   \n",
      "2020-02-07  320.029999  2079.280029  313.630005  212.330002  1479.109985   \n",
      "2020-02-10  321.549988  2133.909912  313.790009  213.059998  1508.660034   \n",
      "2020-02-11  319.609985  2150.800049  310.679993  207.190002  1510.060059   \n",
      "2020-02-12  327.200012  2160.000000  315.119995  210.759995  1518.630005   \n",
      "2020-02-13  324.869995  2149.870117  318.200012  213.139999  1513.390015   \n",
      "2020-02-14  324.950012  2134.870117  318.309998  214.179993  1518.729980   \n",
      "2020-02-18  319.000000  2155.669922  322.049988  217.800003  1519.439941   \n",
      "2020-02-19  323.619995  2170.219971  323.019989  217.490005  1524.869995   \n",
      "2020-02-20  320.299988  2153.100098  324.079987  214.580002  1516.989990   \n",
      "2020-02-21  313.049988  2095.969971  321.950012  210.179993  1483.459961   \n",
      "2020-02-24  298.179993  2009.290039  313.619995  200.720001  1419.859985   \n",
      "2020-02-25  288.079987  1972.739990  304.869995  196.770004  1386.319946   \n",
      "2020-02-26  292.649994  1979.589966  305.690002  197.199997  1390.469971   \n",
      "2020-02-27  273.519989  1884.300049  293.130005  189.750000  1314.949951   \n",
      "2020-02-28  273.359985  1883.750000  281.140015  192.470001  1339.250000   \n",
      "\n",
      "Symbols          INTC        MSFT        NFLX        XLNX  \n",
      "Date                                                       \n",
      "2017-09-25  37.160000   73.260002  178.550003   69.449997  \n",
      "2017-09-26  37.470001   73.260002  179.380005   69.519997  \n",
      "2017-09-27  37.540001   73.849998  181.970001   70.430000  \n",
      "2017-09-28  37.830002   73.870003  180.699997   70.190002  \n",
      "2017-09-29  38.080002   74.489998  181.350006   70.830002  \n",
      "2017-10-02  39.040001   74.610001  177.009995   70.470001  \n",
      "2017-10-03  39.380001   74.260002  179.190002   71.150002  \n",
      "2017-10-04  39.340000   74.690002  184.449997   71.129997  \n",
      "2017-10-05  39.529999   75.970001  194.389999   71.529999  \n",
      "2017-10-06  39.630001   76.000000  198.020004   72.010002  \n",
      "2017-10-09  39.860001   76.290001  196.869995   72.570000  \n",
      "2017-10-10  39.650002   76.290001  195.080002   72.480003  \n",
      "2017-10-11  39.299999   76.419998  194.949997   72.760002  \n",
      "2017-10-12  39.189999   77.120003  195.860001   72.470001  \n",
      "2017-10-13  39.669998   77.489998  199.490005   72.809998  \n",
      "2017-10-16  39.759998   77.650002  202.679993   72.660004  \n",
      "2017-10-17  39.790001   77.589996  199.479996   72.370003  \n",
      "2017-10-18  40.250000   77.610001  195.539993   72.070000  \n",
      "2017-10-19  40.090000   77.910004  195.130005   72.419998  \n",
      "2017-10-20  40.430000   78.809998  194.160004   72.169998  \n",
      "2017-10-23  40.830002   78.830002  192.470001   71.680000  \n",
      "2017-10-24  40.950001   78.860001  196.020004   71.610001  \n",
      "2017-10-25  40.779999   78.629997  193.770004   70.720001  \n",
      "2017-10-26  41.349998   78.760002  195.210007   70.629997  \n",
      "2017-10-27  44.400002   83.809998  199.539993   72.760002  \n",
      "2017-10-30  44.369999   83.889999  198.369995   73.050003  \n",
      "2017-10-31  45.490002   83.180000  196.429993   73.690002  \n",
      "2017-11-01  46.709999   83.180000  198.000000   73.040001  \n",
      "2017-11-02  47.099998   84.050003  199.320007   72.480003  \n",
      "2017-11-03  46.340000   84.139999  200.009995   72.800003  \n",
      "...               ...         ...         ...         ...  \n",
      "2020-01-16  59.660000  166.169998  338.619995  101.360001  \n",
      "2020-01-17  59.599998  167.100006  339.670013  102.889999  \n",
      "2020-01-21  60.549999  166.500000  338.109985  101.650002  \n",
      "2020-01-22  62.730000  165.699997  326.000000  101.290001  \n",
      "2020-01-23  63.320000  166.720001  349.600006  102.410004  \n",
      "2020-01-24  68.470001  165.039993  353.160004  100.800003  \n",
      "2020-01-27  65.690002  162.279999  342.880005   97.000000  \n",
      "2020-01-28  67.309998  165.460007  348.519989   98.610001  \n",
      "2020-01-29  66.330002  168.039993  343.160004   88.059998  \n",
      "2020-01-30  66.470001  172.779999  347.739990   87.199997  \n",
      "2020-01-31  63.930000  170.229996  345.089996   84.480003  \n",
      "2020-02-03  64.419998  174.380005  358.000000   85.050003  \n",
      "2020-02-04  65.459999  180.119995  369.010010   85.779999  \n",
      "2020-02-05  67.339996  179.899994  369.670013   88.230003  \n",
      "2020-02-06  67.089996  183.630005  366.950012   87.720001  \n",
      "2020-02-07  66.019997  183.889999  366.769989   85.620003  \n",
      "2020-02-10  66.389999  188.699997  371.070007   86.419998  \n",
      "2020-02-11  67.410004  184.440002  373.690002   90.290001  \n",
      "2020-02-12  67.459999  184.710007  380.010010   91.169998  \n",
      "2020-02-13  67.440002  183.710007  381.399994   90.410004  \n",
      "2020-02-14  67.269997  185.350006  380.399994   90.169998  \n",
      "2020-02-18  66.139999  187.229996  387.779999   89.239998  \n",
      "2020-02-19  67.110001  187.279999  386.190002   90.709999  \n",
      "2020-02-20  65.449997  184.419998  386.000000   89.790001  \n",
      "2020-02-21  64.339996  178.589996  380.070007   87.720001  \n",
      "2020-02-24  61.759998  170.889999  368.700012   85.180000  \n",
      "2020-02-25  59.730000  168.070007  360.089996   83.879997  \n",
      "2020-02-26  59.650002  170.169998  379.239990   82.599998  \n",
      "2020-02-27  55.830002  158.179993  371.709991   79.489998  \n",
      "2020-02-28  55.520000  162.009995  369.029999   83.489998  \n",
      "\n",
      "[611 rows x 9 columns]\n"
     ]
    }
   ],
   "source": [
    "print(panel_data['Close'])"
   ]
  },
  {
   "cell_type": "code",
   "execution_count": 9,
   "metadata": {},
   "outputs": [],
   "source": [
    " def bound_candidate(bound,candidate):\n",
    "            for i in range(len(candidate)):\n",
    "                if candidate[i]>bound:\n",
    "                    candidate[i]=bound\n",
    "                if candidate[i]<-bound:\n",
    "                    candidate[i]=-bound\n",
    "            return candidate\n",
    "def rounded_MWU(deltas,w0,etta,prices,buy_cap):\n",
    "    purchases=[w0]\n",
    "    rounded_purchases=[w0]\n",
    "    \n",
    "    for i,z in enumerate(deltas):\n",
    "        candidate=purchases[i]+etta*z\n",
    "        candidate=bound_candidate(buy_cap,candidate)\n",
    "       \n",
    "        #rounded_candidate=[round(i/min([abs(j) for j in candidate])) for i in candidate]\n",
    "        def floorey(num):\n",
    "            if num>0:\n",
    "                return math.floor(num)\n",
    "            else:\n",
    "                return math.ceil(num)\n",
    "        rounded_candidate=[float(floorey(i)) for i in candidate]\n",
    "        rounded_candidate=bound_candidate(buy_cap,rounded_candidate)\n",
    "        purchases.append(list(candidate))\n",
    "        rounded_purchases.append(list(rounded_candidate))\n",
    "    return rounded_purchases"
   ]
  },
  {
   "cell_type": "code",
   "execution_count": 10,
   "metadata": {},
   "outputs": [],
   "source": [
    "import math\n",
    "import numpy as np"
   ]
  },
  {
   "cell_type": "code",
   "execution_count": 11,
   "metadata": {},
   "outputs": [],
   "source": [
    "deltas=np.array(delta_seq(prices))"
   ]
  },
  {
   "cell_type": "code",
   "execution_count": 12,
   "metadata": {},
   "outputs": [],
   "source": [
    "w0=[1.0]*9"
   ]
  },
  {
   "cell_type": "markdown",
   "metadata": {},
   "source": [
    "# HYPERPARAM SEARCH\n"
   ]
  },
  {
   "cell_type": "code",
   "execution_count": 13,
   "metadata": {
    "scrolled": true
   },
   "outputs": [
    {
     "name": "stdout",
     "output_type": "stream",
     "text": [
      "0 1.0994349890553459\n",
      "11 1.1018804644752276\n",
      "31 1.1022901673148904\n",
      "32 1.103108889528366\n",
      "34 1.1031306688889473\n",
      "35 1.1040912353945822\n",
      "36 1.104254190593206\n",
      "37 1.1044788618751995\n",
      "38 1.1050676369845662\n",
      "39 1.1057821329766486\n",
      "40 1.1062470221336602\n",
      "41 1.1070523222346496\n",
      "42 1.1076299559403182\n",
      "43 1.1094835943744323\n",
      "44 1.1104554589603095\n",
      "45 1.110673622956465\n",
      "46 1.1112013766630622\n",
      "47 1.11237616723699\n",
      "48 1.1138046142142086\n",
      "49 1.1150850192434811\n",
      "50 1.1158596067969466\n",
      "51 1.1160427789452556\n",
      "52 1.1173449536053885\n",
      "53 1.1175650983481094\n",
      "54 1.1177918890515204\n",
      "55 1.1178582434896263\n",
      "56 1.1192742911487343\n",
      "57 1.1194521015334677\n",
      "58 1.1203106910935063\n",
      "59 1.1207186459806906\n",
      "60 1.1209032359556754\n",
      "61 1.1214023727928877\n",
      "62 1.1214185431403911\n",
      "63 1.121456871753073\n",
      "64 1.1225229754842456\n",
      "best mean0.032\n"
     ]
    }
   ],
   "source": [
    "best_percent_gained=0.0\n",
    "best_mean=None\n",
    "#kinda like training to get best learning rate\n",
    "#means=[i/200 for i in range(200)]\n",
    "for i in range(2000):\n",
    "    #ettas=[means[i]+np.random.normal()*.01 for i in range(100)]\n",
    "\n",
    "    calcdpurchases=rounded_MWU(deltas[:int(.5*len(deltas))],w0,i/2000,prices,3.0)\n",
    "    calcbank,calcportfolio,last_gain,profit_tracker,gain_tracker=manage_bank_account(calcdpurchases,prices)\n",
    "    percent=sum(calcportfolio)/-calcbank\n",
    "    if percent>best_percent_gained:\n",
    "        best_percent_gained=percent\n",
    "        best_mean=i/2000\n",
    "        print(i,best_percent_gained)\n",
    "print(\"best mean\"+str(best_mean))    "
   ]
  },
  {
   "cell_type": "markdown",
   "metadata": {},
   "source": [
    "# Inference"
   ]
  },
  {
   "cell_type": "code",
   "execution_count": 14,
   "metadata": {},
   "outputs": [
    {
     "name": "stdout",
     "output_type": "stream",
     "text": [
      "['AAPL', 'AMZN', 'COST', 'FB', 'GOOGL', 'INTC', 'MSFT', 'NFLX', 'XLNX']\n",
      "if u chose stocks this morning   [0.0, 1.0, 0.0, 0.0, 3.0, 0.0, 1.0, 3.0, 3.0]and overall gain2078.6305770874023\n",
      "amount in bank: -209648.5092048645\n",
      " amount of money ur holdings are worth [ 22321.20080566 128163.06079102  32430.75050354  -1564.74000549\n",
      "  29141.           3146.47010803  20615.          17231.49932861\n",
      "  15551.72970581] \n",
      " how many shares you have of each company [124.99272358  75.82850095 140.22289292 -11.128227    26.26143321\n",
      "  63.80997811 185.90495188  60.2226227  168.16316113] \n",
      " the net worth of your holdings: 267035.9712371826 \n",
      " the percent gained: 1.2737317916066848\n",
      "best picks for tmrw :[0.0, 3.0, 1.0, 0.0, 3.0, 0.0, 1.0, 2.0, 3.0]\n"
     ]
    }
   ],
   "source": [
    "#validate it on second half\n",
    "print(tickers)\n",
    "# print(\"u picked \"+str(calcdpurchases[-2])+\"in the morning\")\n",
    "# print(\"morning price\"+str(prices[-2]))\n",
    "deltas=np.array(delta_seq(prices))\n",
    "w0=[1.0,1.0,1.0,1.0,1.0,1.0,1.0,1.0,1.0]\n",
    "#w0=[1.0,1.0,1.0,1.0,1.0,1.0]\n",
    "calcdpurchases=rounded_MWU(deltas[int(.5*len(deltas)):],w0,.32,prices[int(.5*len(deltas)):],3.0)\n",
    "calcbank,calcportfolio,last_gain,profit_tracker,gain_tracker=manage_bank_account(calcdpurchases,prices)\n",
    "def calc_profit(purchase,delta):\n",
    "    profit=0\n",
    "    for i in range(len(purchase)):\n",
    "        if purchase[i]>0:\n",
    "            profit+=purchase[i]*delta[i]\n",
    "    return profit\n",
    "        \n",
    "profit_last_day=calc_profit(calcdpurchases[-2],deltas[-1])\n",
    "\n",
    "print(\"if u chose stocks this morning   \"+str(calcdpurchases[-2])+\"and overall gain\"+str(sum(last_gain)))\n",
    "print(\"amount in bank: \"+str(calcbank)+\"\\n amount of money ur holdings are worth \"+str(calcportfolio)+\" \\n how many shares you have of each company \"+str(np.array(calcportfolio)/prices[-1])+\" \\n the net worth of your holdings: \"+str(sum(calcportfolio))+ \" \\n the percent gained: \"+str(sum(calcportfolio)/-calcbank))\n",
    "\n",
    "print(\"best picks for tmrw :\"+str(calcdpurchases[-1]))"
   ]
  },
  {
   "cell_type": "markdown",
   "metadata": {},
   "source": [
    "# METRICS\n"
   ]
  },
  {
   "cell_type": "code",
   "execution_count": 15,
   "metadata": {},
   "outputs": [],
   "source": [
    "basic_profit=profit_tracker\n",
    "basic_gain=gain_tracker"
   ]
  },
  {
   "cell_type": "code",
   "execution_count": 16,
   "metadata": {},
   "outputs": [
    {
     "name": "stdout",
     "output_type": "stream",
     "text": [
      "151 300\n"
     ]
    },
    {
     "data": {
      "image/png": "[encoded data removed]",
      "text/plain": [
       "<Figure size 432x288 with 1 Axes>"
      ]
     },
     "metadata": {
      "needs_background": "light"
     },
     "output_type": "display_data"
    },
    {
     "data": {
      "image/png": "[encoded data removed]",
      "text/plain": [
       "<Figure size 432x288 with 1 Axes>"
      ]
     },
     "metadata": {
      "needs_background": "light"
     },
     "output_type": "display_data"
    }
   ],
   "source": [
    "\n",
    "%matplotlib inline\n",
    "print(len(calcdpurchases),len(prices))\n",
    "plt.plot(basic_profit)\n",
    "plt.show()\n",
    "plt.plot(basic_gain)\n",
    "plt.show()\n"
   ]
  },
  {
   "cell_type": "code",
   "execution_count": null,
   "metadata": {},
   "outputs": [],
   "source": []
  },
  {
   "cell_type": "code",
   "execution_count": null,
   "metadata": {},
   "outputs": [],
   "source": []
  },
  {
   "cell_type": "code",
   "execution_count": null,
   "metadata": {},
   "outputs": [],
   "source": []
  },
  {
   "cell_type": "code",
   "execution_count": null,
   "metadata": {},
   "outputs": [],
   "source": []
  },
  {
   "cell_type": "code",
   "execution_count": null,
   "metadata": {},
   "outputs": [],
   "source": []
  },
  {
   "cell_type": "code",
   "execution_count": null,
   "metadata": {},
   "outputs": [],
   "source": []
  },
  {
   "cell_type": "code",
   "execution_count": null,
   "metadata": {},
   "outputs": [],
   "source": []
  },
  {
   "cell_type": "code",
   "execution_count": null,
   "metadata": {},
   "outputs": [],
   "source": []
  },
  {
   "cell_type": "code",
   "execution_count": null,
   "metadata": {},
   "outputs": [],
   "source": []
  },
  {
   "cell_type": "code",
   "execution_count": null,
   "metadata": {},
   "outputs": [],
   "source": []
  },
  {
   "cell_type": "code",
   "execution_count": null,
   "metadata": {},
   "outputs": [],
   "source": []
  },
  {
   "cell_type": "code",
   "execution_count": null,
   "metadata": {},
   "outputs": [],
   "source": []
  },
  {
   "cell_type": "code",
   "execution_count": null,
   "metadata": {},
   "outputs": [],
   "source": [
    "\n"
   ]
  },
  {
   "cell_type": "code",
   "execution_count": null,
   "metadata": {},
   "outputs": [],
   "source": [
    "\n"
   ]
  },
  {
   "cell_type": "markdown",
   "metadata": {},
   "source": [
    "now we test our highest percent profit algorithm, multi_agent_mwu on synthetic data on a portfolio consisting of ['aapl','abc'] where the long term trends are approximately the same but the hour the hour data is completely synthesizd by https://github.com/mrocklin/fakestockdata\n",
    "\n"
   ]
  },
  {
   "cell_type": "code",
   "execution_count": null,
   "metadata": {},
   "outputs": [],
   "source": []
  },
  {
   "cell_type": "code",
   "execution_count": null,
   "metadata": {},
   "outputs": [],
   "source": []
  },
  {
   "cell_type": "code",
   "execution_count": null,
   "metadata": {},
   "outputs": [],
   "source": []
  },
  {
   "cell_type": "code",
   "execution_count": null,
   "metadata": {},
   "outputs": [],
   "source": []
  },
  {
   "cell_type": "code",
   "execution_count": null,
   "metadata": {},
   "outputs": [],
   "source": []
  },
  {
   "cell_type": "code",
   "execution_count": null,
   "metadata": {},
   "outputs": [],
   "source": []
  },
  {
   "cell_type": "code",
   "execution_count": null,
   "metadata": {},
   "outputs": [],
   "source": [
    "\n"
   ]
  },
  {
   "cell_type": "markdown",
   "metadata": {},
   "source": [
    "Now we perform an ablation study and see the results of using just buying eery other day and buying with memory lengths 0,...,100."
   ]
  },
  {
   "cell_type": "code",
   "execution_count": null,
   "metadata": {},
   "outputs": [],
   "source": []
  },
  {
   "cell_type": "code",
   "execution_count": null,
   "metadata": {},
   "outputs": [],
   "source": []
  },
  {
   "cell_type": "code",
   "execution_count": null,
   "metadata": {},
   "outputs": [],
   "source": []
  },
  {
   "cell_type": "code",
   "execution_count": null,
   "metadata": {},
   "outputs": [],
   "source": []
  },
  {
   "cell_type": "code",
   "execution_count": null,
   "metadata": {},
   "outputs": [],
   "source": []
  },
  {
   "cell_type": "code",
   "execution_count": null,
   "metadata": {
    "scrolled": true
   },
   "outputs": [],
   "source": []
  },
  {
   "cell_type": "code",
   "execution_count": null,
   "metadata": {},
   "outputs": [],
   "source": []
  },
  {
   "cell_type": "code",
   "execution_count": null,
   "metadata": {},
   "outputs": [],
   "source": []
  },
  {
   "cell_type": "code",
   "execution_count": null,
   "metadata": {},
   "outputs": [],
   "source": []
  },
  {
   "cell_type": "code",
   "execution_count": null,
   "metadata": {},
   "outputs": [],
   "source": []
  }
 ],
 "metadata": {
  "anaconda-cloud": {},
  "kernelspec": {
   "display_name": "Python 3",
   "language": "python",
   "name": "python3"
  },
  "language_info": {
   "codemirror_mode": {
    "name": "ipython",
    "version": 3
   },
   "file_extension": ".py",
   "mimetype": "text/x-python",
   "name": "python",
   "nbconvert_exporter": "python",
   "pygments_lexer": "ipython3",
   "version": "3.6.5"
  }
 },
 "nbformat": 4,
 "nbformat_minor": 1
}
